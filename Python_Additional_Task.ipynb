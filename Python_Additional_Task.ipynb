{
 "cells": [
  {
   "cell_type": "markdown",
   "id": "a6cbdf67",
   "metadata": {},
   "source": [
    "## TASK\n",
    "Implement a system that:\n",
    "1. will automatically download files from an FTP address\n",
    "2. will process the data and get a ready CSV table\n",
    "3. will send this table to the specified FTP address"
   ]
  },
  {
   "cell_type": "markdown",
   "id": "73dc9e5d",
   "metadata": {},
   "source": [
    "### importing required libraries"
   ]
  },
  {
   "cell_type": "code",
   "execution_count": null,
   "id": "5bb36fb3",
   "metadata": {},
   "outputs": [],
   "source": [
    "import ftplib\n",
    "import os\n",
    "import zipfile\n",
    "import mysql.connector as connection\n",
    "import pandas as pd\n",
    "import pyunpack"
   ]
  },
  {
   "cell_type": "markdown",
   "id": "66a42a7e",
   "metadata": {},
   "source": [
    "### connect by ftp and download archive"
   ]
  },
  {
   "cell_type": "code",
   "execution_count": 134,
   "id": "e696a959",
   "metadata": {},
   "outputs": [],
   "source": [
    "ftp_host = \"**************\"\n",
    "ftp_user = \"**************\"\n",
    "ftp_pass = \"**************\"\n",
    "\n",
    "ftp = ftplib.FTP(ftp_host, ftp_user, ftp_pass) #FTP connection\n",
    "ftp.cwd(\"/\")\n",
    "savedir=\"C:/task\"\n",
    "os.chdir(savedir)\n",
    "\n",
    "filename = \"task.rar\"\n",
    "\n",
    "rar_file = open(filename, \"wb\")\n",
    "ftp.retrbinary(\"RETR \" + filename, rar_file.write) #save file in local directory\n",
    "rar_file.close()"
   ]
  },
  {
   "cell_type": "code",
   "execution_count": 135,
   "id": "c939e82f",
   "metadata": {},
   "outputs": [],
   "source": [
    "pyunpack.Archive(\"task.rar\").extractall(\"C:/task\") #unpack archive"
   ]
  },
  {
   "cell_type": "markdown",
   "id": "3e826679",
   "metadata": {},
   "source": [
    "### connect to MySql DB"
   ]
  },
  {
   "cell_type": "code",
   "execution_count": 136,
   "id": "0d487b8e",
   "metadata": {},
   "outputs": [],
   "source": [
    "config = {\n",
    "  'user': 'root',\n",
    "  'password': \"**************\",\n",
    "  'host': '127.0.0.1',\n",
    "  'database': 'manufacture',\n",
    "  'raise_on_warnings': True\n",
    "}\n",
    "\n",
    "cnx = connection.connect(**config)"
   ]
  },
  {
   "cell_type": "markdown",
   "id": "3ea5b15d",
   "metadata": {},
   "source": [
    "### main query"
   ]
  },
  {
   "cell_type": "code",
   "execution_count": 150,
   "id": "32b1ca0f",
   "metadata": {},
   "outputs": [],
   "source": [
    "query = \"\"\"\n",
    "    SELECT product.main_part_number, product.manufacturer, product.category, product.origin, \n",
    "    CAST(REPLACE(quantity.quantity, '>', '') AS UNSIGNED) AS quantity, price.price,\n",
    "    IFNULL(deposit.deposit,0) AS deposit, (price.price + IFNULL(deposit.deposit,0)) AS total_price\n",
    "    FROM product\n",
    "    LEFT JOIN price ON product.part_number = price.part_number \n",
    "    LEFT JOIN deposit ON product.part_number = deposit.part_number \n",
    "    LEFT JOIN quantity ON product.part_number = quantity.part_number \n",
    "    WHERE quantity.warehouse IN ('A', 'H', 'J', '3', '9') AND (quantity.quantity NOT IN ('0')) \n",
    "    AND ((price.price + IFNULL(deposit.deposit,0)) >= 2.00)\n",
    "    ORDER BY quantity.warehouse\n",
    "\"\"\""
   ]
  },
  {
   "cell_type": "code",
   "execution_count": 151,
   "id": "e5e9e2e9",
   "metadata": {},
   "outputs": [
    {
     "data": {
      "text/html": [
       "<div>\n",
       "<style scoped>\n",
       "    .dataframe tbody tr th:only-of-type {\n",
       "        vertical-align: middle;\n",
       "    }\n",
       "\n",
       "    .dataframe tbody tr th {\n",
       "        vertical-align: top;\n",
       "    }\n",
       "\n",
       "    .dataframe thead th {\n",
       "        text-align: right;\n",
       "    }\n",
       "</style>\n",
       "<table border=\"1\" class=\"dataframe\">\n",
       "  <thead>\n",
       "    <tr style=\"text-align: right;\">\n",
       "      <th></th>\n",
       "      <th>main_part_number</th>\n",
       "      <th>manufacturer</th>\n",
       "      <th>category</th>\n",
       "      <th>origin</th>\n",
       "      <th>quantity</th>\n",
       "      <th>price</th>\n",
       "      <th>deposit</th>\n",
       "      <th>total_price</th>\n",
       "    </tr>\n",
       "  </thead>\n",
       "  <tbody>\n",
       "    <tr>\n",
       "      <th>0</th>\n",
       "      <td>WT89691</td>\n",
       "      <td>HART FILTRY I</td>\n",
       "      <td>Filtry paliwa</td>\n",
       "      <td>CN</td>\n",
       "      <td>1</td>\n",
       "      <td>114.84</td>\n",
       "      <td>0.0</td>\n",
       "      <td>114.84</td>\n",
       "    </tr>\n",
       "    <tr>\n",
       "      <th>1</th>\n",
       "      <td>2341801</td>\n",
       "      <td>TEXTAR</td>\n",
       "      <td>Klocki hamulcowe</td>\n",
       "      <td>RO</td>\n",
       "      <td>1</td>\n",
       "      <td>1678.06</td>\n",
       "      <td>0.0</td>\n",
       "      <td>1678.06</td>\n",
       "    </tr>\n",
       "    <tr>\n",
       "      <th>2</th>\n",
       "      <td>51391-S5A-024*</td>\n",
       "      <td>HART EL.MET-GUM.III</td>\n",
       "      <td>Tuleje</td>\n",
       "      <td>PL</td>\n",
       "      <td>2</td>\n",
       "      <td>107.08</td>\n",
       "      <td>0.0</td>\n",
       "      <td>107.08</td>\n",
       "    </tr>\n",
       "    <tr>\n",
       "      <th>3</th>\n",
       "      <td>771 0320 30</td>\n",
       "      <td>FAG</td>\n",
       "      <td>Przeguby</td>\n",
       "      <td>PL</td>\n",
       "      <td>1</td>\n",
       "      <td>999.15</td>\n",
       "      <td>0.0</td>\n",
       "      <td>999.15</td>\n",
       "    </tr>\n",
       "    <tr>\n",
       "      <th>4</th>\n",
       "      <td>1 987 946 062</td>\n",
       "      <td>BOSCH</td>\n",
       "      <td>Paski micro</td>\n",
       "      <td>PL</td>\n",
       "      <td>1</td>\n",
       "      <td>159.49</td>\n",
       "      <td>0.0</td>\n",
       "      <td>159.49</td>\n",
       "    </tr>\n",
       "  </tbody>\n",
       "</table>\n",
       "</div>"
      ],
      "text/plain": [
       "  main_part_number         manufacturer          category origin  quantity  \\\n",
       "0          WT89691        HART FILTRY I     Filtry paliwa     CN         1   \n",
       "1          2341801               TEXTAR  Klocki hamulcowe     RO         1   \n",
       "2   51391-S5A-024*  HART EL.MET-GUM.III            Tuleje     PL         2   \n",
       "3      771 0320 30                  FAG          Przeguby     PL         1   \n",
       "4    1 987 946 062                BOSCH       Paski micro     PL         1   \n",
       "\n",
       "     price  deposit  total_price  \n",
       "0   114.84      0.0       114.84  \n",
       "1  1678.06      0.0      1678.06  \n",
       "2   107.08      0.0       107.08  \n",
       "3   999.15      0.0       999.15  \n",
       "4   159.49      0.0       159.49  "
      ]
     },
     "execution_count": 151,
     "metadata": {},
     "output_type": "execute_result"
    }
   ],
   "source": [
    "result_dataFrame = pd.read_sql(query, cnx) #Show result in dataFrame\n",
    "result_dataFrame.head()"
   ]
  },
  {
   "cell_type": "markdown",
   "id": "17151e54",
   "metadata": {},
   "source": [
    "### save to .csv file and upload by ftp"
   ]
  },
  {
   "cell_type": "code",
   "execution_count": 152,
   "id": "8400077a",
   "metadata": {},
   "outputs": [],
   "source": [
    "result_dataFrame.to_csv('./ftp_rezults_VictoriaDyshlyuk.csv', sep ='\\t', index=False, encoding='UTF-8') #Save .csv"
   ]
  },
  {
   "cell_type": "code",
   "execution_count": 153,
   "id": "eab9b4e7",
   "metadata": {},
   "outputs": [],
   "source": [
    "ftp = ftplib.FTP(ftp_host, ftp_user, ftp_pass) #connect ftp"
   ]
  },
  {
   "cell_type": "code",
   "execution_count": 154,
   "id": "b987ef66",
   "metadata": {},
   "outputs": [
    {
     "name": "stdout",
     "output_type": "stream",
     "text": [
      "['task.rar', 'complete', '.', ' complete_result.csv', ' complete\\\\result.csv', '..']\n"
     ]
    }
   ],
   "source": [
    "directory_list = ftp.nlst()\n",
    "print(directory_list)"
   ]
  },
  {
   "cell_type": "code",
   "execution_count": 156,
   "id": "a3d9cce8",
   "metadata": {},
   "outputs": [
    {
     "data": {
      "text/plain": [
       "'226 Transfer complete'"
      ]
     },
     "execution_count": 156,
     "metadata": {},
     "output_type": "execute_result"
    }
   ],
   "source": [
    "result_file = \"C:/task/ftp_rezults_VictoriaDyshlyuk.csv\"\n",
    "\n",
    "#ftp.cwd('/complete/')\n",
    "#ftp.mkd('VictoriaDyshlyuk')\n",
    "ftp.cwd('/complete/VictoriaDyshlyuk/')\n",
    "ftp.storbinary('STOR ftp_rezults_VictoriaDyshlyuk.csv', open(result_file, 'rb')) #Save in ftp folder\n"
   ]
  }
 ],
 "metadata": {
  "kernelspec": {
   "display_name": "Python 3 (ipykernel)",
   "language": "python",
   "name": "python3"
  },
  "language_info": {
   "codemirror_mode": {
    "name": "ipython",
    "version": 3
   },
   "file_extension": ".py",
   "mimetype": "text/x-python",
   "name": "python",
   "nbconvert_exporter": "python",
   "pygments_lexer": "ipython3",
   "version": "3.9.7"
  }
 },
 "nbformat": 4,
 "nbformat_minor": 5
}
